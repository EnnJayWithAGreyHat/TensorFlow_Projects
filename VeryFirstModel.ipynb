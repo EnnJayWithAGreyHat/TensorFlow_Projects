{
 "cells": [
  {
   "cell_type": "code",
   "execution_count": 8,
   "id": "5c9169df-507f-4301-9481-c38cec85d7d7",
   "metadata": {},
   "outputs": [
    {
     "name": "stdout",
     "output_type": "stream",
     "text": [
      "Tensorflow version: 2.18.0\n"
     ]
    }
   ],
   "source": [
    "import tensorflow as tf\n",
    "print(\"Tensorflow version:\", tf.__version__)"
   ]
  },
  {
   "cell_type": "markdown",
   "id": "cfad7e47-6ed4-4fc1-8058-6d4a50757a92",
   "metadata": {},
   "source": [
    "This is the part of the code that has the important information regarding the way that we store the load data, and prepares a dataset"
   ]
  },
  {
   "cell_type": "code",
   "execution_count": 9,
   "id": "82c69ac1-9092-4bb8-a84f-d111262706c6",
   "metadata": {},
   "outputs": [],
   "source": [
    "mnist = tf.keras.datasets.mnist\n",
    "(x_train, y_train), (x_test, y_test) = mnist.load_data()\n",
    "x_train, x_test = x_train / 255.0, x_test / 255.0"
   ]
  },
  {
   "cell_type": "markdown",
   "id": "a89c7a13-84eb-48cf-b1d7-bfa67a2f31ad",
   "metadata": {},
   "source": [
    "The cell below takes the way that I can layer cells and make it so that each layer has a corresponding input and output tensor"
   ]
  },
  {
   "cell_type": "code",
   "execution_count": 10,
   "id": "7d96255d-c9a7-4132-9927-62724784f4ac",
   "metadata": {},
   "outputs": [],
   "source": [
    "model = tf.keras.models.Sequential([\n",
    "  tf.keras.layers.Flatten(input_shape=(28, 28)),\n",
    "  tf.keras.layers.Dense(128, activation='relu'),\n",
    "  tf.keras.layers.Dropout(0.2),\n",
    "  tf.keras.layers.Dense(10)\n",
    "])"
   ]
  },
  {
   "cell_type": "code",
   "execution_count": 11,
   "id": "0ac64afa-ccce-4710-a543-b812b32fcd24",
   "metadata": {},
   "outputs": [
    {
     "data": {
      "text/plain": [
       "array([[0.09048174, 0.08077037, 0.0557828 , 0.10896753, 0.14021736,\n",
       "        0.05402163, 0.0766298 , 0.12099948, 0.05552528, 0.21660405]],\n",
       "      dtype=float32)"
      ]
     },
     "execution_count": 11,
     "metadata": {},
     "output_type": "execute_result"
    }
   ],
   "source": [
    "predictions = model(x_train[:1]).numpy()\n",
    "predictions\n",
    "tf.nn.softmax(predictions).numpy()"
   ]
  },
  {
   "cell_type": "markdown",
   "id": "2fa57fad-e15e-445f-8ea9-8e5609d4f671",
   "metadata": {},
   "source": [
    "Define the loss function and make sure that it is trained, and that it takes the correct vectors of logic and can return the average loss"
   ]
  },
  {
   "cell_type": "code",
   "execution_count": 12,
   "id": "c3a88aa4-c9ad-452a-8656-54365e25977d",
   "metadata": {},
   "outputs": [
    {
     "data": {
      "text/plain": [
       "2.9183707"
      ]
     },
     "execution_count": 12,
     "metadata": {},
     "output_type": "execute_result"
    }
   ],
   "source": [
    "loss_fn = tf.keras.losses.SparseCategoricalCrossentropy(from_logits=True)\n",
    "loss_fn(y_train[:1], predictions).numpy()"
   ]
  },
  {
   "cell_type": "markdown",
   "id": "41fe8018-6a8c-4338-9d96-435e40d547a9",
   "metadata": {},
   "source": [
    "What this does is take the information from the model and ensure that the right amount of epochs and accuracy are put into the model in order to make an optimized compilation of the data"
   ]
  },
  {
   "cell_type": "code",
   "execution_count": 13,
   "id": "48745f83-d18c-4d10-be94-eb99b4694524",
   "metadata": {},
   "outputs": [
    {
     "name": "stdout",
     "output_type": "stream",
     "text": [
      "Epoch 1/5\n",
      "\u001b[1m1875/1875\u001b[0m \u001b[32m━━━━━━━━━━━━━━━━━━━━\u001b[0m\u001b[37m\u001b[0m \u001b[1m7s\u001b[0m 3ms/step - accuracy: 0.8617 - loss: 0.4736\n",
      "Epoch 2/5\n",
      "\u001b[1m1875/1875\u001b[0m \u001b[32m━━━━━━━━━━━━━━━━━━━━\u001b[0m\u001b[37m\u001b[0m \u001b[1m6s\u001b[0m 3ms/step - accuracy: 0.9568 - loss: 0.1464\n",
      "Epoch 3/5\n",
      "\u001b[1m1875/1875\u001b[0m \u001b[32m━━━━━━━━━━━━━━━━━━━━\u001b[0m\u001b[37m\u001b[0m \u001b[1m6s\u001b[0m 3ms/step - accuracy: 0.9668 - loss: 0.1076\n",
      "Epoch 4/5\n",
      "\u001b[1m1875/1875\u001b[0m \u001b[32m━━━━━━━━━━━━━━━━━━━━\u001b[0m\u001b[37m\u001b[0m \u001b[1m6s\u001b[0m 3ms/step - accuracy: 0.9726 - loss: 0.0872\n",
      "Epoch 5/5\n",
      "\u001b[1m1875/1875\u001b[0m \u001b[32m━━━━━━━━━━━━━━━━━━━━\u001b[0m\u001b[37m\u001b[0m \u001b[1m6s\u001b[0m 3ms/step - accuracy: 0.9782 - loss: 0.0712\n",
      "313/313 - 1s - 2ms/step - accuracy: 0.9775 - loss: 0.0750\n"
     ]
    },
    {
     "data": {
      "text/plain": [
       "<tf.Tensor: shape=(5, 10), dtype=float32, numpy=\n",
       "array([[3.6123165e-08, 5.2087927e-07, 4.2073301e-05, 1.7914940e-04,\n",
       "        5.4995616e-11, 8.2560956e-07, 2.2519328e-11, 9.9977320e-01,\n",
       "        2.6892644e-07, 3.8680028e-06],\n",
       "       [6.0413078e-07, 4.1011783e-05, 9.9995232e-01, 5.2492928e-06,\n",
       "        7.7879081e-15, 7.8197775e-07, 4.6117183e-08, 1.7901173e-15,\n",
       "        1.8429226e-08, 6.6324225e-14],\n",
       "       [9.3255130e-06, 9.9541712e-01, 1.0455844e-03, 4.0795461e-05,\n",
       "        1.7233381e-04, 2.3108421e-05, 3.8206772e-04, 1.5445127e-03,\n",
       "        1.3537052e-03, 1.1351569e-05],\n",
       "       [9.9935442e-01, 1.6668123e-07, 4.5161534e-04, 7.6584649e-07,\n",
       "        2.0562029e-06, 1.3747970e-05, 1.5760378e-04, 7.1218997e-06,\n",
       "        5.2308934e-07, 1.2044844e-05],\n",
       "       [1.0820802e-06, 5.1068492e-09, 5.2577641e-05, 5.1259786e-08,\n",
       "        9.9699712e-01, 1.4377953e-06, 7.4744476e-06, 5.8153433e-05,\n",
       "        1.2151250e-07, 2.8820387e-03]], dtype=float32)>"
      ]
     },
     "execution_count": 13,
     "metadata": {},
     "output_type": "execute_result"
    }
   ],
   "source": [
    "model.compile(optimizer='adam',\n",
    "              loss=loss_fn,\n",
    "              metrics=['accuracy'])\n",
    "model.fit(x_train, y_train, epochs=5)\n",
    "model.evaluate(x_test,  y_test, verbose=2)\n",
    "probability_model = tf.keras.Sequential([\n",
    "  model,\n",
    "  tf.keras.layers.Softmax()\n",
    "])\n",
    "probability_model(x_test[:5])"
   ]
  }
 ],
 "metadata": {
  "kernelspec": {
   "display_name": "Python 3 (ipykernel)",
   "language": "python",
   "name": "python3"
  },
  "language_info": {
   "codemirror_mode": {
    "name": "ipython",
    "version": 3
   },
   "file_extension": ".py",
   "mimetype": "text/x-python",
   "name": "python",
   "nbconvert_exporter": "python",
   "pygments_lexer": "ipython3",
   "version": "3.12.6"
  }
 },
 "nbformat": 4,
 "nbformat_minor": 5
}
